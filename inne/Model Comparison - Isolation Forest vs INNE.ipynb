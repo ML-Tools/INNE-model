{
 "cells": [
  {
   "cell_type": "markdown",
   "metadata": {},
   "source": [
    "# Data"
   ]
  },
  {
   "cell_type": "markdown",
   "metadata": {},
   "source": [
    "## Read data"
   ]
  },
  {
   "cell_type": "code",
   "execution_count": 1,
   "metadata": {},
   "outputs": [],
   "source": [
    "import matplotlib.pyplot as plt\n",
    "from sklearn import metrics\n",
    "import pandas as pd\n",
    "import numpy as np\n",
    "import os \n",
    "from sklearn.ensemble import IsolationForest\n",
    "from sklearn.metrics import average_precision_score\n",
    "from sklearn.model_selection import train_test_split\n",
    "from sklearn.metrics import classification_report\n",
    "from sklearn.preprocessing import StandardScaler\n"
   ]
  },
  {
   "cell_type": "markdown",
   "metadata": {},
   "source": [
    "You can get the Credit Card Fraud Detection dataset from:\n",
    "https://www.kaggle.com/mlg-ulb/creditcardfraud"
   ]
  },
  {
   "cell_type": "code",
   "execution_count": 2,
   "metadata": {},
   "outputs": [
    {
     "data": {
      "text/html": [
       "<div>\n",
       "<style scoped>\n",
       "    .dataframe tbody tr th:only-of-type {\n",
       "        vertical-align: middle;\n",
       "    }\n",
       "\n",
       "    .dataframe tbody tr th {\n",
       "        vertical-align: top;\n",
       "    }\n",
       "\n",
       "    .dataframe thead th {\n",
       "        text-align: right;\n",
       "    }\n",
       "</style>\n",
       "<table border=\"1\" class=\"dataframe\">\n",
       "  <thead>\n",
       "    <tr style=\"text-align: right;\">\n",
       "      <th></th>\n",
       "      <th>Time</th>\n",
       "      <th>V1</th>\n",
       "      <th>V2</th>\n",
       "      <th>V3</th>\n",
       "      <th>V4</th>\n",
       "      <th>V5</th>\n",
       "      <th>V6</th>\n",
       "      <th>V7</th>\n",
       "      <th>V8</th>\n",
       "      <th>V9</th>\n",
       "      <th>...</th>\n",
       "      <th>V21</th>\n",
       "      <th>V22</th>\n",
       "      <th>V23</th>\n",
       "      <th>V24</th>\n",
       "      <th>V25</th>\n",
       "      <th>V26</th>\n",
       "      <th>V27</th>\n",
       "      <th>V28</th>\n",
       "      <th>Amount</th>\n",
       "      <th>Class</th>\n",
       "    </tr>\n",
       "  </thead>\n",
       "  <tbody>\n",
       "    <tr>\n",
       "      <th>0</th>\n",
       "      <td>0.0</td>\n",
       "      <td>-1.359807</td>\n",
       "      <td>-0.072781</td>\n",
       "      <td>2.536347</td>\n",
       "      <td>1.378155</td>\n",
       "      <td>-0.338321</td>\n",
       "      <td>0.462388</td>\n",
       "      <td>0.239599</td>\n",
       "      <td>0.098698</td>\n",
       "      <td>0.363787</td>\n",
       "      <td>...</td>\n",
       "      <td>-0.018307</td>\n",
       "      <td>0.277838</td>\n",
       "      <td>-0.110474</td>\n",
       "      <td>0.066928</td>\n",
       "      <td>0.128539</td>\n",
       "      <td>-0.189115</td>\n",
       "      <td>0.133558</td>\n",
       "      <td>-0.021053</td>\n",
       "      <td>149.62</td>\n",
       "      <td>0</td>\n",
       "    </tr>\n",
       "    <tr>\n",
       "      <th>1</th>\n",
       "      <td>0.0</td>\n",
       "      <td>1.191857</td>\n",
       "      <td>0.266151</td>\n",
       "      <td>0.166480</td>\n",
       "      <td>0.448154</td>\n",
       "      <td>0.060018</td>\n",
       "      <td>-0.082361</td>\n",
       "      <td>-0.078803</td>\n",
       "      <td>0.085102</td>\n",
       "      <td>-0.255425</td>\n",
       "      <td>...</td>\n",
       "      <td>-0.225775</td>\n",
       "      <td>-0.638672</td>\n",
       "      <td>0.101288</td>\n",
       "      <td>-0.339846</td>\n",
       "      <td>0.167170</td>\n",
       "      <td>0.125895</td>\n",
       "      <td>-0.008983</td>\n",
       "      <td>0.014724</td>\n",
       "      <td>2.69</td>\n",
       "      <td>0</td>\n",
       "    </tr>\n",
       "    <tr>\n",
       "      <th>2</th>\n",
       "      <td>1.0</td>\n",
       "      <td>-1.358354</td>\n",
       "      <td>-1.340163</td>\n",
       "      <td>1.773209</td>\n",
       "      <td>0.379780</td>\n",
       "      <td>-0.503198</td>\n",
       "      <td>1.800499</td>\n",
       "      <td>0.791461</td>\n",
       "      <td>0.247676</td>\n",
       "      <td>-1.514654</td>\n",
       "      <td>...</td>\n",
       "      <td>0.247998</td>\n",
       "      <td>0.771679</td>\n",
       "      <td>0.909412</td>\n",
       "      <td>-0.689281</td>\n",
       "      <td>-0.327642</td>\n",
       "      <td>-0.139097</td>\n",
       "      <td>-0.055353</td>\n",
       "      <td>-0.059752</td>\n",
       "      <td>378.66</td>\n",
       "      <td>0</td>\n",
       "    </tr>\n",
       "    <tr>\n",
       "      <th>3</th>\n",
       "      <td>1.0</td>\n",
       "      <td>-0.966272</td>\n",
       "      <td>-0.185226</td>\n",
       "      <td>1.792993</td>\n",
       "      <td>-0.863291</td>\n",
       "      <td>-0.010309</td>\n",
       "      <td>1.247203</td>\n",
       "      <td>0.237609</td>\n",
       "      <td>0.377436</td>\n",
       "      <td>-1.387024</td>\n",
       "      <td>...</td>\n",
       "      <td>-0.108300</td>\n",
       "      <td>0.005274</td>\n",
       "      <td>-0.190321</td>\n",
       "      <td>-1.175575</td>\n",
       "      <td>0.647376</td>\n",
       "      <td>-0.221929</td>\n",
       "      <td>0.062723</td>\n",
       "      <td>0.061458</td>\n",
       "      <td>123.50</td>\n",
       "      <td>0</td>\n",
       "    </tr>\n",
       "    <tr>\n",
       "      <th>4</th>\n",
       "      <td>2.0</td>\n",
       "      <td>-1.158233</td>\n",
       "      <td>0.877737</td>\n",
       "      <td>1.548718</td>\n",
       "      <td>0.403034</td>\n",
       "      <td>-0.407193</td>\n",
       "      <td>0.095921</td>\n",
       "      <td>0.592941</td>\n",
       "      <td>-0.270533</td>\n",
       "      <td>0.817739</td>\n",
       "      <td>...</td>\n",
       "      <td>-0.009431</td>\n",
       "      <td>0.798278</td>\n",
       "      <td>-0.137458</td>\n",
       "      <td>0.141267</td>\n",
       "      <td>-0.206010</td>\n",
       "      <td>0.502292</td>\n",
       "      <td>0.219422</td>\n",
       "      <td>0.215153</td>\n",
       "      <td>69.99</td>\n",
       "      <td>0</td>\n",
       "    </tr>\n",
       "  </tbody>\n",
       "</table>\n",
       "<p>5 rows × 31 columns</p>\n",
       "</div>"
      ],
      "text/plain": [
       "   Time        V1        V2        V3        V4        V5        V6        V7  \\\n",
       "0   0.0 -1.359807 -0.072781  2.536347  1.378155 -0.338321  0.462388  0.239599   \n",
       "1   0.0  1.191857  0.266151  0.166480  0.448154  0.060018 -0.082361 -0.078803   \n",
       "2   1.0 -1.358354 -1.340163  1.773209  0.379780 -0.503198  1.800499  0.791461   \n",
       "3   1.0 -0.966272 -0.185226  1.792993 -0.863291 -0.010309  1.247203  0.237609   \n",
       "4   2.0 -1.158233  0.877737  1.548718  0.403034 -0.407193  0.095921  0.592941   \n",
       "\n",
       "         V8        V9  ...         V21       V22       V23       V24  \\\n",
       "0  0.098698  0.363787  ...   -0.018307  0.277838 -0.110474  0.066928   \n",
       "1  0.085102 -0.255425  ...   -0.225775 -0.638672  0.101288 -0.339846   \n",
       "2  0.247676 -1.514654  ...    0.247998  0.771679  0.909412 -0.689281   \n",
       "3  0.377436 -1.387024  ...   -0.108300  0.005274 -0.190321 -1.175575   \n",
       "4 -0.270533  0.817739  ...   -0.009431  0.798278 -0.137458  0.141267   \n",
       "\n",
       "        V25       V26       V27       V28  Amount  Class  \n",
       "0  0.128539 -0.189115  0.133558 -0.021053  149.62      0  \n",
       "1  0.167170  0.125895 -0.008983  0.014724    2.69      0  \n",
       "2 -0.327642 -0.139097 -0.055353 -0.059752  378.66      0  \n",
       "3  0.647376 -0.221929  0.062723  0.061458  123.50      0  \n",
       "4 -0.206010  0.502292  0.219422  0.215153   69.99      0  \n",
       "\n",
       "[5 rows x 31 columns]"
      ]
     },
     "execution_count": 2,
     "metadata": {},
     "output_type": "execute_result"
    }
   ],
   "source": [
    "data_path = os.path.join(\"..\",\"data\",\"creditcard.csv\")\n",
    "data = pd.read_csv(data_path)\n",
    "data.head(5)"
   ]
  },
  {
   "cell_type": "code",
   "execution_count": 3,
   "metadata": {},
   "outputs": [
    {
     "data": {
      "text/plain": [
       "0    284315\n",
       "1       492\n",
       "Name: Class, dtype: int64"
      ]
     },
     "execution_count": 3,
     "metadata": {},
     "output_type": "execute_result"
    }
   ],
   "source": [
    "data[\"Class\"].value_counts()"
   ]
  },
  {
   "cell_type": "markdown",
   "metadata": {},
   "source": [
    "## Prepare data"
   ]
  },
  {
   "cell_type": "code",
   "execution_count": 4,
   "metadata": {},
   "outputs": [
    {
     "name": "stdout",
     "output_type": "stream",
     "text": [
      "Inliers Train shape: (85284, 28)\n",
      "Outliers Train shape: (158, 28)\n",
      "Inliers Test shape: (199031, 28)\n",
      "Outliers Test shape: (334, 28)\n"
     ]
    }
   ],
   "source": [
    "train, test = train_test_split(data, test_size=0.7, random_state=42)\n",
    "train = train.drop(columns=[\"Amount\",\"Time\"])\n",
    "test = test.drop(columns=[\"Amount\",\"Time\"])\n",
    "X_train, y_train = train.drop(columns=[\"Class\"]), train[\"Class\"]\n",
    "X_test, y_test = test.drop(columns=[\"Class\"]), test[\"Class\"]\n",
    "\n",
    "train_inliers = train[train.Class==0]\n",
    "train_inliers = train_inliers.drop(['Class'], axis=1)\n",
    "train_outliers = train[train.Class==1]\n",
    "train_outliers = train_outliers.drop(['Class'], axis=1)\n",
    "\n",
    "test_inliers = test[test.Class==0]\n",
    "test_inliers = test_inliers.drop(['Class'], axis=1)\n",
    "test_outliers = test[test.Class==1]\n",
    "test_outliers = test_outliers.drop(['Class'], axis=1)\n",
    "\n",
    "# KNN type models need to standartize the featrues\n",
    "sc = StandardScaler()\n",
    "sc.fit(train_inliers.values)\n",
    "train_inliers_sc = sc.transform(train_inliers.values)\n",
    "X_train_sc = sc.transform(X_train)\n",
    "X_test_sc = sc.transform(X_test)\n",
    "\n",
    "print(f\"Inliers Train shape: {train_inliers.shape}\")\n",
    "print(f\"Outliers Train shape: {train_outliers.shape}\")\n",
    "\n",
    "print(f\"Inliers Test shape: {test_inliers.shape}\")\n",
    "print(f\"Outliers Test shape: {test_outliers.shape}\")\n"
   ]
  },
  {
   "cell_type": "markdown",
   "metadata": {},
   "source": [
    "# Models"
   ]
  },
  {
   "cell_type": "markdown",
   "metadata": {},
   "source": [
    "## Main metric - Recall@K"
   ]
  },
  {
   "cell_type": "code",
   "execution_count": 5,
   "metadata": {},
   "outputs": [],
   "source": [
    "def recall(df, k, ascending=True):\n",
    "    true_col_name = df.columns[0]\n",
    "    pred_col_name = df.columns[1]\n",
    "    top_true = df.sort_values(pred_col_name, ascending=ascending).head(k)[true_col_name].sum()\n",
    "    total_true = df[true_col_name].sum()\n",
    "    recall_at_k =  top_true / total_true\n",
    "    return recall_at_k\n",
    "\n",
    "def get_recall_at_k_range(results_df, k_range, ascending=True):\n",
    "    results_dict = {\"K\":[], \"Recall@k\":[]}\n",
    "    for k in k_range:\n",
    "        results_dict[\"K\"].append(k)\n",
    "        result = recall(results_df, k, ascending=ascending)\n",
    "        results_dict[\"Recall@k\"].append(result)\n",
    "\n",
    "    results_df = pd.DataFrame(results_dict)\n",
    "    return results_df\n",
    "    \n",
    "def print_recall_at_k_graph(results_df, title=\"Recall@k\"):\n",
    "    results_df.plot(x=\"K\",y=\"Recall@k\",title=title)\n",
    "    plt.show()\n",
    "    \n",
    "def collect_results(train_preds_df, test_preds_df, ytrain, ytest, k, wanted_range, ascending=True):\n",
    "    X_train_concat_results = pd.concat([pd.DataFrame(ytrain).reset_index(drop=True),\n",
    "                                        train_preds_df], axis=1)\n",
    "\n",
    "    X_test_concat_results = pd.concat([pd.DataFrame(ytest).reset_index(drop=True),\n",
    "                                        test_preds_df], axis=1)\n",
    "\n",
    "    # Plot Recall@k graphs\n",
    "    train_recall_at_k_results = get_recall_at_k_range(X_train_concat_results, wanted_range, ascending=ascending)\n",
    "    print_recall_at_k_graph(train_recall_at_k_results, \"Train Recall@k\")\n",
    "\n",
    "    test_recall_at_k_results = get_recall_at_k_range(X_test_concat_results, wanted_range, ascending=ascending)\n",
    "    print_recall_at_k_graph(test_recall_at_k_results, \"Test Recall@k\")\n",
    "\n",
    "    # Calc Recall@k AUC\n",
    "    denominator = train_recall_at_k_results[\"K\"].min() + train_recall_at_k_results[\"K\"].max()\n",
    "    train_recall_at_k_auc = metrics.auc(train_recall_at_k_results[\"K\"], train_recall_at_k_results[\"Recall@k\"]/denominator)\n",
    "    test_recall_at_k_auc = metrics.auc(test_recall_at_k_results[\"K\"], test_recall_at_k_results[\"Recall@k\"]/denominator)\n",
    "    print(f\"Train Recall@{k}: {recall(X_train_concat_results, k, ascending=ascending)}\")\n",
    "    print(f\"Train Recall@{k} AUC: {train_recall_at_k_auc}\")\n",
    "    print()\n",
    "    print(f\"Test Recall@{k}: {recall(X_test_concat_results, k, ascending=ascending)}\")\n",
    "    print(f\"Test Recall@{k} AUC: {test_recall_at_k_auc}\")\n",
    "    \n",
    "    "
   ]
  },
  {
   "cell_type": "code",
   "execution_count": 6,
   "metadata": {},
   "outputs": [],
   "source": [
    "k_total = 10_000 # used to evaluate the models\n",
    "k_optimize = 2_000 # used to optimize the models - More important that anomalies will be ranked at the first k_optimize instances\n",
    "wanted_range = range(1000,10_000,1000) "
   ]
  },
  {
   "cell_type": "markdown",
   "metadata": {},
   "source": [
    "## Evaluation methodology\n",
    "\n",
    "- I chose to use recall@k because, in many anomaly detection tasks, we will pass our predictions to human expert for another validation. However, the human expert can't examine all of the predictions, therefore, we will select top-k (k depend on human capacity) most anomalous instances and pass them for human inspection. \n",
    "\n",
    "- I also chose to report Recall@k area under the curve. It's the same as well known AUC of the ROC curve, but when the curve is of recall results over different K values. Even though the dataset is larger than 10K instances, I chose to look at top instances up to top 10K most anomalous ones because I thought this is a reasonable amount of instances for human inspection. I also investigated the results of top 2K most anomalous instances to further understand the differences between the models.\n",
    "\n",
    "\n",
    "- I compare two models, Isolation Forest and INNE.\n",
    "\n",
    "\n",
    "- The evaluation is composed of two steps:\n",
    "    1. Optimization - I chose to optimized only one parameter of each model, to get a fast \"feeling\" of the models' performance. \n",
    "    2. Model selection - fitting each model with its best parameters and predicting on the test set.\n",
    "\n",
    "\n",
    "- In both of the steps, I fitted the models on train data without outliers. In the optimization step, I predicted on the train with outliers. I did it for simplicity, you can further evaluate it on a separate validation set. I didn't see huge differences between train and test results, so I chose the short path for evaluation.\n",
    "\n",
    "\n",
    "- In the Model selection step, I predicted on the test dataset that includes outliers and reported recall@k results."
   ]
  },
  {
   "cell_type": "markdown",
   "metadata": {},
   "source": [
    "## Isolation Forest "
   ]
  },
  {
   "cell_type": "markdown",
   "metadata": {},
   "source": [
    "### Get best parameters\n",
    "Simple hypertuning - Only n_estimators"
   ]
  },
  {
   "cell_type": "code",
   "execution_count": 7,
   "metadata": {},
   "outputs": [
    {
     "name": "stdout",
     "output_type": "stream",
     "text": [
      "Working on n_estimators=50\n",
      "Fitting...\n",
      "Predicting...\n",
      "Train Recall@2000: 0.6582278481012658\n",
      "\n",
      "Working on n_estimators=100\n",
      "Fitting...\n",
      "Predicting...\n",
      "Train Recall@2000: 0.7531645569620253\n",
      "\n",
      "Working on n_estimators=150\n",
      "Fitting...\n",
      "Predicting...\n",
      "Train Recall@2000: 0.7531645569620253\n",
      "\n",
      "Working on n_estimators=200\n",
      "Fitting...\n",
      "Predicting...\n",
      "Train Recall@2000: 0.7215189873417721\n",
      "\n",
      "Working on n_estimators=250\n",
      "Fitting...\n",
      "Predicting...\n",
      "Train Recall@2000: 0.7531645569620253\n",
      "\n",
      "Working on n_estimators=300\n",
      "Fitting...\n",
      "Predicting...\n",
      "Train Recall@2000: 0.7468354430379747\n",
      "\n",
      "Working on n_estimators=350\n",
      "Fitting...\n",
      "Predicting...\n",
      "Train Recall@2000: 0.7658227848101266\n",
      "\n",
      "Working on n_estimators=400\n",
      "Fitting...\n",
      "Predicting...\n",
      "Train Recall@2000: 0.7658227848101266\n",
      "\n",
      "Working on n_estimators=450\n",
      "Fitting...\n",
      "Predicting...\n",
      "Train Recall@2000: 0.7658227848101266\n",
      "\n"
     ]
    }
   ],
   "source": [
    "results = {\"n_estimators\":[],\n",
    "          \"Recall@k\":[]}\n",
    "\n",
    "for i in range(50,500, 50):\n",
    "    print(f\"Working on n_estimators={i}\")\n",
    "    print(\"Fitting...\")\n",
    "    clf = IsolationForest(n_estimators=i, random_state=0).fit(train_inliers)\n",
    "\n",
    "    print(\"Predicting...\")\n",
    "    train_preds = clf.decision_function(X_train)\n",
    "    train_preds = pd.Series(train_preds).reset_index(drop=True)\n",
    "    \n",
    "    X_train_concat_results = pd.concat([pd.DataFrame(y_train).reset_index(drop=True),\n",
    "                                        train_preds], axis=1)\n",
    "    curr_recall = recall(X_train_concat_results, k_optimize, ascending=True)\n",
    "    \n",
    "    results[\"n_estimators\"].append(i)\n",
    "    results[\"Recall@k\"].append(curr_recall)\n",
    "    print(f\"Train Recall@{k_optimize}: {curr_recall}\")\n",
    "    print()\n",
    "    "
   ]
  },
  {
   "cell_type": "code",
   "execution_count": 8,
   "metadata": {},
   "outputs": [
    {
     "data": {
      "text/plain": [
       "<matplotlib.axes._subplots.AxesSubplot at 0x23511c51ef0>"
      ]
     },
     "execution_count": 8,
     "metadata": {},
     "output_type": "execute_result"
    },
    {
     "data": {
      "image/png": "[encoded data removed]",
      "text/plain": [
       "<Figure size 432x288 with 1 Axes>"
      ]
     },
     "metadata": {
      "needs_background": "light"
     },
     "output_type": "display_data"
    }
   ],
   "source": [
    "pd.DataFrame(results).plot(x=\"n_estimators\", y=\"Recall@k\", title=\"Recall@k per n_estimators parameter\")"
   ]
  },
  {
   "cell_type": "markdown",
   "metadata": {},
   "source": [
    "### Fitting model with best parameters"
   ]
  },
  {
   "cell_type": "code",
   "execution_count": 9,
   "metadata": {},
   "outputs": [
    {
     "name": "stdout",
     "output_type": "stream",
     "text": [
      "Fitting...\n",
      "Predicting...\n"
     ]
    }
   ],
   "source": [
    "print(\"Fitting...\")\n",
    "clf = IsolationForest(n_estimators=400, random_state=0).fit(train_inliers)\n",
    "\n",
    "print(\"Predicting...\")\n",
    "train_preds = clf.decision_function(X_train)\n",
    "train_preds = pd.Series(train_preds).reset_index(drop=True)\n",
    "test_preds = clf.decision_function(X_test)\n",
    "test_preds = pd.Series(test_preds).reset_index(drop=True)"
   ]
  },
  {
   "cell_type": "code",
   "execution_count": 10,
   "metadata": {},
   "outputs": [
    {
     "name": "stdout",
     "output_type": "stream",
     "text": [
      "Results over top-10000 most anomalous predictions\n"
     ]
    },
    {
     "data": {
      "image/png": "[encoded data removed]",
      "text/plain": [
       "<Figure size 432x288 with 1 Axes>"
      ]
     },
     "metadata": {
      "needs_background": "light"
     },
     "output_type": "display_data"
    },
    {
     "data": {
      "image/png": "[encoded data removed]",
      "text/plain": [
       "<Figure size 432x288 with 1 Axes>"
      ]
     },
     "metadata": {
      "needs_background": "light"
     },
     "output_type": "display_data"
    },
    {
     "name": "stdout",
     "output_type": "stream",
     "text": [
      "Train Recall@10000: 0.9240506329113924\n",
      "Train Recall@10000 AUC: 0.6731012658227848\n",
      "\n",
      "Test Recall@10000: 0.8473053892215568\n",
      "Test Recall@10000 AUC: 0.5919161676646707\n"
     ]
    }
   ],
   "source": [
    "print(f\"Results over top-{k_total} most anomalous predictions\")\n",
    "collect_results(train_preds, test_preds, y_train, y_test, k=k_total, wanted_range=wanted_range, ascending=True)"
   ]
  },
  {
   "cell_type": "code",
   "execution_count": 11,
   "metadata": {},
   "outputs": [
    {
     "name": "stdout",
     "output_type": "stream",
     "text": [
      "Results over top-2000 most anomalous predictions\n"
     ]
    },
    {
     "data": {
      "image/png": "[encoded data removed]",
      "text/plain": [
       "<Figure size 432x288 with 1 Axes>"
      ]
     },
     "metadata": {
      "needs_background": "light"
     },
     "output_type": "display_data"
    },
    {
     "data": {
      "image/png": "[encoded data removed]",
      "text/plain": [
       "<Figure size 432x288 with 1 Axes>"
      ]
     },
     "metadata": {
      "needs_background": "light"
     },
     "output_type": "display_data"
    },
    {
     "name": "stdout",
     "output_type": "stream",
     "text": [
      "Train Recall@2000: 0.7658227848101266\n",
      "Train Recall@2000 AUC: 0.5060126582278481\n",
      "\n",
      "Test Recall@2000: 0.5988023952095808\n",
      "Test Recall@2000 AUC: 0.38106287425149693\n"
     ]
    }
   ],
   "source": [
    "print(f\"Results over top-{k_optimize} most anomalous predictions\")\n",
    "collect_results(train_preds, test_preds, y_train, y_test, k=k_optimize, wanted_range=range(100,2000,100), ascending=True)"
   ]
  },
  {
   "cell_type": "markdown",
   "metadata": {},
   "source": [
    "## INNE "
   ]
  },
  {
   "cell_type": "markdown",
   "metadata": {},
   "source": [
    "### Get best parameters\n",
    "Simple hypertuning - Only n_samples"
   ]
  },
  {
   "cell_type": "code",
   "execution_count": 12,
   "metadata": {},
   "outputs": [
    {
     "name": "stdout",
     "output_type": "stream",
     "text": [
      "Working on n_samples=50\n",
      "Fitting...\n",
      "Predicting...\n",
      "Train Recall@2000: 0.189873417721519\n",
      "\n",
      "Working on n_samples=100\n",
      "Fitting...\n",
      "Predicting...\n",
      "Train Recall@2000: 0.4810126582278481\n",
      "\n",
      "Working on n_samples=150\n",
      "Fitting...\n",
      "Predicting...\n",
      "Train Recall@2000: 0.7278481012658228\n",
      "\n",
      "Working on n_samples=200\n",
      "Fitting...\n",
      "Predicting...\n",
      "Train Recall@2000: 0.8481012658227848\n",
      "\n",
      "Working on n_samples=250\n",
      "Fitting...\n",
      "Predicting...\n",
      "Train Recall@2000: 0.8544303797468354\n",
      "\n",
      "Working on n_samples=300\n",
      "Fitting...\n",
      "Predicting...\n",
      "Train Recall@2000: 0.8481012658227848\n",
      "\n",
      "Working on n_samples=350\n",
      "Fitting...\n",
      "Predicting...\n",
      "Train Recall@2000: 0.8481012658227848\n",
      "\n",
      "Working on n_samples=400\n",
      "Fitting...\n",
      "Predicting...\n",
      "Train Recall@2000: 0.8607594936708861\n",
      "\n",
      "Working on n_samples=450\n",
      "Fitting...\n",
      "Predicting...\n",
      "Train Recall@2000: 0.8607594936708861\n",
      "\n"
     ]
    }
   ],
   "source": [
    "from inne import INNE\n",
    "results_inne = {\"n_samples\":[],\n",
    "          \"Recall@k\":[]}\n",
    "\n",
    "for i in range(50,500, 50):\n",
    "    print(f\"Working on n_samples={i}\")\n",
    "    print(\"Fitting...\")\n",
    "    clf = INNE(n_samples=i, sample_size=100, n_jobs=8)\n",
    "    clf.fit(train_inliers_sc)\n",
    "\n",
    "    print(\"Predicting...\")\n",
    "    train_preds = clf.predict(X_train_sc)\n",
    "    train_preds = pd.Series(train_preds).reset_index(drop=True)\n",
    "    \n",
    "    X_train_concat_results = pd.concat([pd.DataFrame(y_train).reset_index(drop=True),\n",
    "                                        train_preds], axis=1)\n",
    "    curr_recall = recall(X_train_concat_results, k_optimize, ascending=False)\n",
    "    \n",
    "    results_inne[\"n_samples\"].append(i)\n",
    "    results_inne[\"Recall@k\"].append(curr_recall)\n",
    "    print(f\"Train Recall@{k_optimize}: {curr_recall}\")\n",
    "    print()\n",
    "    "
   ]
  },
  {
   "cell_type": "code",
   "execution_count": 13,
   "metadata": {},
   "outputs": [
    {
     "data": {
      "text/plain": [
       "<matplotlib.axes._subplots.AxesSubplot at 0x23511c6c198>"
      ]
     },
     "execution_count": 13,
     "metadata": {},
     "output_type": "execute_result"
    },
    {
     "data": {
      "image/png": "[encoded data removed]",
      "text/plain": [
       "<Figure size 432x288 with 1 Axes>"
      ]
     },
     "metadata": {
      "needs_background": "light"
     },
     "output_type": "display_data"
    }
   ],
   "source": [
    "pd.DataFrame(results_inne).plot(x=\"n_samples\", y=\"Recall@k\", title=\"Recall@k per n_samples parameter\")"
   ]
  },
  {
   "cell_type": "markdown",
   "metadata": {},
   "source": [
    "## Fitting model with best parameters"
   ]
  },
  {
   "cell_type": "code",
   "execution_count": 14,
   "metadata": {},
   "outputs": [
    {
     "name": "stdout",
     "output_type": "stream",
     "text": [
      "Fitting...\n",
      "Predicting...\n"
     ]
    },
    {
     "data": {
      "image/png": "[encoded data removed]",
      "text/plain": [
       "<Figure size 432x288 with 1 Axes>"
      ]
     },
     "metadata": {
      "needs_background": "light"
     },
     "output_type": "display_data"
    },
    {
     "data": {
      "image/png": "[encoded data removed]",
      "text/plain": [
       "<Figure size 432x288 with 1 Axes>"
      ]
     },
     "metadata": {
      "needs_background": "light"
     },
     "output_type": "display_data"
    },
    {
     "name": "stdout",
     "output_type": "stream",
     "text": [
      "Train Recall@10000: 0.9240506329113924\n",
      "Train Recall@10000 AUC: 0.7031645569620253\n",
      "\n",
      "Test Recall@10000: 0.8502994011976048\n",
      "Test Recall@10000 AUC: 0.6570359281437126\n"
     ]
    }
   ],
   "source": [
    "\n",
    "print(\"Fitting...\")\n",
    "clf = INNE(n_samples=500, sample_size=100, n_jobs=8)\n",
    "clf.fit(train_inliers_sc)\n",
    "\n",
    "print(\"Predicting...\")\n",
    "train_preds = clf.predict(X_train_sc)\n",
    "train_preds = pd.Series(train_preds).reset_index(drop=True)\n",
    "test_preds = clf.predict(X_test_sc)\n",
    "test_preds = pd.Series(test_preds).reset_index(drop=True)\n",
    "\n",
    "collect_results(train_preds, test_preds, y_train, y_test, k=k_total, wanted_range=wanted_range, ascending=False)"
   ]
  },
  {
   "cell_type": "code",
   "execution_count": 15,
   "metadata": {},
   "outputs": [
    {
     "data": {
      "image/png": "[encoded data removed]",
      "text/plain": [
       "<Figure size 432x288 with 1 Axes>"
      ]
     },
     "metadata": {
      "needs_background": "light"
     },
     "output_type": "display_data"
    },
    {
     "data": {
      "image/png": "[encoded data removed]",
      "text/plain": [
       "<Figure size 432x288 with 1 Axes>"
      ]
     },
     "metadata": {
      "needs_background": "light"
     },
     "output_type": "display_data"
    },
    {
     "name": "stdout",
     "output_type": "stream",
     "text": [
      "Train Recall@2000: 0.8544303797468354\n",
      "Train Recall@2000 AUC: 0.6443037974683544\n",
      "\n",
      "Test Recall@2000: 0.8203592814371258\n",
      "Test Recall@2000 AUC: 0.4642964071856288\n"
     ]
    }
   ],
   "source": [
    "collect_results(train_preds, test_preds, y_train, y_test, k=k_optimize, wanted_range=range(100,2000,100), ascending=False)"
   ]
  },
  {
   "cell_type": "markdown",
   "metadata": {},
   "source": [
    "# Final thoughts\n",
    "\n",
    "- INNE is better than Isolation Forest on this dataset on the metric I selected. INNE do better ranking of anomalous instances, and also find overall more anomalous instances in the top-K results.\n",
    "\n",
    "\n",
    "- INNE memory complexity is O(S*N) where S is the number of samples and N is the sample size. Usually $S\\in[50,150]$ and $N\\in[100,500]$. So it isn't depend on the dataset size. The author of the paper reported lower values, but those values didn't work on this dataset. So you should explore it. \n",
    "\n",
    "\n",
    "- INNE running time is a problem. I optimized what I could with NumPy objects, and parallelized the computation when needed. It not great, but it runs at a reasonable time on this dataset (minutes, depends on sample size). If you have some improvement suggestions please let me know.\n",
    "\n",
    "\n"
   ]
  },
  {
   "cell_type": "markdown",
   "metadata": {},
   "source": [
    "# Resources\n",
    "\n",
    "I want to thank Thanks to Tharindu R. Bandaragoda et al for their paper - \n",
    "\"Efficient Anomaly Detection by Isolation Using Nearest Neighbour Ensemble\"\n",
    "https://ieeexplore.ieee.org/stamp/stamp.jsp?tp=&arnumber=7022664&tag=1\n",
    "\n",
    "It is a simple but powerful algorithm, and I had a lot of fun to implement it on python. Here is their original implementation in JAVA - https://github.com/tharindurb/iNNE\n",
    "\n",
    "This GitHub repository contains also a PDF file with slides that provides another explanation for the algorithm."
   ]
  },
  {
   "cell_type": "code",
   "execution_count": null,
   "metadata": {},
   "outputs": [],
   "source": []
  }
 ],
 "metadata": {
  "kernelspec": {
   "display_name": "Python 3",
   "language": "python",
   "name": "python3"
  },
  "language_info": {
   "codemirror_mode": {
    "name": "ipython",
    "version": 3
   },
   "file_extension": ".py",
   "mimetype": "text/x-python",
   "name": "python",
   "nbconvert_exporter": "python",
   "pygments_lexer": "ipython3",
   "version": "3.6.6"
  },
  "toc": {
   "base_numbering": 1,
   "nav_menu": {},
   "number_sections": true,
   "sideBar": true,
   "skip_h1_title": false,
   "title_cell": "Table of Contents",
   "title_sidebar": "Contents",
   "toc_cell": false,
   "toc_position": {
    "height": "calc(100% - 180px)",
    "left": "10px",
    "top": "150px",
    "width": "339.062px"
   },
   "toc_section_display": true,
   "toc_window_display": true
  }
 },
 "nbformat": 4,
 "nbformat_minor": 2
}
